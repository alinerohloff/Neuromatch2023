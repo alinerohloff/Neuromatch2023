{
 "cells": [
  {
   "cell_type": "markdown",
   "id": "93948112",
   "metadata": {},
   "source": [
    "# Section 2"
   ]
  },
  {
   "cell_type": "code",
   "execution_count": 2,
   "id": "21067d53",
   "metadata": {},
   "outputs": [
    {
     "name": "stdout",
     "output_type": "stream",
     "text": [
      "0\n",
      "1\n",
      "2\n"
     ]
    }
   ],
   "source": [
    "# For loops\n",
    "for step in [0, 1, 2]:\n",
    "  print(step)\n"
   ]
  },
  {
   "cell_type": "code",
   "execution_count": 4,
   "id": "7bdcaa37",
   "metadata": {},
   "outputs": [
    {
     "name": "stdout",
     "output_type": "stream",
     "text": [
      "0\n",
      "1\n",
      "2\n"
     ]
    }
   ],
   "source": [
    "for step in range(3):\n",
    "  print(step)\n"
   ]
  },
  {
   "cell_type": "code",
   "execution_count": 5,
   "id": "75fcbd63",
   "metadata": {},
   "outputs": [
    {
     "name": "stdout",
     "output_type": "stream",
     "text": [
      "0\n",
      "1\n",
      "2\n"
     ]
    }
   ],
   "source": [
    "start = 0\n",
    "end = 3\n",
    "stepsize = 1\n",
    "\n",
    "for step in range(start, end, stepsize):\n",
    "  print(step)"
   ]
  },
  {
   "cell_type": "markdown",
   "id": "266fe585",
   "metadata": {},
   "source": [
    "# Section 3"
   ]
  },
  {
   "cell_type": "code",
   "execution_count": 2,
   "id": "f72a993d",
   "metadata": {},
   "outputs": [],
   "source": [
    "import matplotlib.pyplot as plt"
   ]
  },
  {
   "cell_type": "markdown",
   "id": "f56cd367",
   "metadata": {},
   "source": [
    "# Section 5"
   ]
  },
  {
   "cell_type": "code",
   "execution_count": 3,
   "id": "8f2591e2",
   "metadata": {},
   "outputs": [
    {
     "name": "stdout",
     "output_type": "stream",
     "text": [
      "['Aline', 100, (0.5+0.5j)]\n"
     ]
    }
   ],
   "source": [
    "# Lists\n",
    "mylist = [\"Aline\", 100, 0.5 +0.5j]\n",
    "print(mylist)"
   ]
  },
  {
   "cell_type": "code",
   "execution_count": 4,
   "id": "90df6bd5",
   "metadata": {},
   "outputs": [
    {
     "name": "stdout",
     "output_type": "stream",
     "text": [
      "['Aline', 100, 10.0]\n"
     ]
    }
   ],
   "source": [
    "# Operation with Lists\n",
    "mylist = [\"Aline\", 100]\n",
    "\n",
    "# Append\n",
    "mylist.append(10.0)\n",
    "print(mylist)"
   ]
  },
  {
   "cell_type": "code",
   "execution_count": 3,
   "id": "1c088fef",
   "metadata": {},
   "outputs": [
    {
     "name": "stdout",
     "output_type": "stream",
     "text": [
      "['Aline', 'Rohloff', 100]\n"
     ]
    }
   ],
   "source": [
    "# Operation with Lists\n",
    "mylist = [\"Aline\", 100]\n",
    "\n",
    "# Insert\n",
    "mylist.insert(1, \"Rohloff\")\n",
    "print(mylist)"
   ]
  },
  {
   "cell_type": "code",
   "execution_count": 4,
   "id": "61953f74",
   "metadata": {},
   "outputs": [
    {
     "name": "stdout",
     "output_type": "stream",
     "text": [
      "['Aline', 'Rohloff', 100, 10.0]\n"
     ]
    }
   ],
   "source": [
    "mylist = mylist + [10.0]\n",
    "# mylist = [\"Rohloff\"] + mylist\n",
    "\n",
    "print(mylist)"
   ]
  },
  {
   "cell_type": "code",
   "execution_count": 5,
   "id": "3279acba",
   "metadata": {},
   "outputs": [
    {
     "name": "stdout",
     "output_type": "stream",
     "text": [
      "['Rohloff', 'Aline', 'Rohloff', 100, 10.0]\n"
     ]
    }
   ],
   "source": [
    "mylist = [\"Rohloff\"] + mylist\n",
    "\n",
    "print(mylist)"
   ]
  },
  {
   "cell_type": "code",
   "execution_count": 13,
   "id": "bdf01b61",
   "metadata": {},
   "outputs": [
    {
     "name": "stdout",
     "output_type": "stream",
     "text": [
      "['Aline', 100, 10.0, 1.0]\n"
     ]
    }
   ],
   "source": [
    "mylist = [\"Aline\", 100]\n",
    "\n",
    "#Extend\n",
    "mylist.extend ([10.0, 1.0])\n",
    "\n",
    "print(mylist)"
   ]
  },
  {
   "cell_type": "code",
   "execution_count": 11,
   "id": "03da6bcb",
   "metadata": {},
   "outputs": [
    {
     "name": "stdout",
     "output_type": "stream",
     "text": [
      "10000.0\n",
      "[100, 'Aline', 10.0]\n",
      "['Aline', 10.0]\n",
      "['Aline', 10.0, 10000.0]\n"
     ]
    }
   ],
   "source": [
    "# Indexing and slicing\n",
    "mylist = [100, \"Aline\", 10., 1e4]\n",
    "print(mylist[-1])\n",
    "\n",
    "# Delete (Starting with index 0)\n",
    "mylist = [100, \"Aline\", 10., 1e4]\n",
    "del (mylist[-1])\n",
    "print(mylist)\n",
    "\n",
    "mylist = [100, \"Aline\", 10., 1e4]\n",
    "print(mylist[1:3])\n",
    "\n",
    "mylist = [100, \"Aline\", 10., 1e4]\n",
    "print(mylist[1:])"
   ]
  },
  {
   "cell_type": "code",
   "execution_count": 29,
   "id": "aabecc8d",
   "metadata": {},
   "outputs": [
    {
     "name": "stdout",
     "output_type": "stream",
     "text": [
      "[0, 2, 4, 6]\n"
     ]
    }
   ],
   "source": [
    "mylist = [0,1,2,3,4,5,6]\n",
    "print(mylist[::2]) #2 represent the step 2"
   ]
  },
  {
   "cell_type": "code",
   "execution_count": 13,
   "id": "98336320",
   "metadata": {},
   "outputs": [
    {
     "name": "stdout",
     "output_type": "stream",
     "text": [
      "0 pyramidal\n",
      "1 inhibitory\n",
      "2 Glial\n"
     ]
    }
   ],
   "source": [
    "# Enumerate\n",
    "mylist = ['pyramidal', 'inhibitory', 'Glial']\n",
    "\n",
    "for idx, item in enumerate(mylist):\n",
    "    print (idx, item)"
   ]
  },
  {
   "cell_type": "code",
   "execution_count": 46,
   "id": "bf6dd5ee",
   "metadata": {},
   "outputs": [
    {
     "name": "stdout",
     "output_type": "stream",
     "text": [
      "[0, 1, 4, 9, 16, 25, 36, 49, 64, 81, 100]\n"
     ]
    }
   ],
   "source": [
    "# List Comprehension\n",
    "squares = [x**2 for x in range(11)]\n",
    "print (squares)"
   ]
  },
  {
   "cell_type": "code",
   "execution_count": 47,
   "id": "d8ff7085",
   "metadata": {},
   "outputs": [
    {
     "data": {
      "text/plain": [
       "[<matplotlib.lines.Line2D at 0x1d8aacebc10>]"
      ]
     },
     "execution_count": 47,
     "metadata": {},
     "output_type": "execute_result"
    },
    {
     "data": {
      "image/png": "[encoded data removed]",
      "text/plain": [
       "<Figure size 432x288 with 1 Axes>"
      ]
     },
     "metadata": {
      "needs_background": "light"
     },
     "output_type": "display_data"
    }
   ],
   "source": [
    "# Plotting lists\n",
    "\n",
    "x = [0,1,2,3,4,5,6,7,8,9,10]\n",
    "plt.plot(x,squares,'ro')"
   ]
  },
  {
   "cell_type": "markdown",
   "id": "6803ccf5",
   "metadata": {},
   "source": [
    "## Ensemble Statistics"
   ]
  },
  {
   "cell_type": "code",
   "execution_count": 15,
   "id": "1cb3c32f",
   "metadata": {},
   "outputs": [
    {
     "name": "stdout",
     "output_type": "stream",
     "text": [
      "[1, 1, 1]\n"
     ]
    }
   ],
   "source": [
    "mylist = 3* [1]\n",
    "print (mylist)"
   ]
  },
  {
   "cell_type": "markdown",
   "id": "cbe74cf6",
   "metadata": {},
   "source": [
    "# Section 6 - Using Numpy"
   ]
  },
  {
   "cell_type": "code",
   "execution_count": 18,
   "id": "9a2c95f2",
   "metadata": {},
   "outputs": [
    {
     "name": "stdout",
     "output_type": "stream",
     "text": [
      "[1 2 3]\n"
     ]
    }
   ],
   "source": [
    "import numpy as np\n",
    "a = np.array([1, 2,3])\n",
    "print (a)"
   ]
  },
  {
   "cell_type": "code",
   "execution_count": 19,
   "id": "6daa6849",
   "metadata": {},
   "outputs": [
    {
     "name": "stdout",
     "output_type": "stream",
     "text": [
      "(3,)\n"
     ]
    }
   ],
   "source": [
    "print (a.shape)"
   ]
  },
  {
   "cell_type": "code",
   "execution_count": 21,
   "id": "58be2aa2",
   "metadata": {},
   "outputs": [
    {
     "name": "stdout",
     "output_type": "stream",
     "text": [
      "[[1 2 3]\n",
      " [4 5 6]]\n",
      "(2, 3)\n"
     ]
    }
   ],
   "source": [
    "a = np.array([[1, 2,3],[4,5,6]])\n",
    "print (a)\n",
    "print (a.shape)"
   ]
  },
  {
   "cell_type": "code",
   "execution_count": 23,
   "id": "b3722c27",
   "metadata": {},
   "outputs": [
    {
     "data": {
      "text/plain": [
       "array([2, 3, 4])"
      ]
     },
     "execution_count": 23,
     "metadata": {},
     "output_type": "execute_result"
    }
   ],
   "source": [
    "# Operations with numpy array\n",
    "\n",
    "# Elementwise operations\n",
    "a = np.array([1, 2,3])\n",
    "\n",
    "# Addition\n",
    "a + 1"
   ]
  },
  {
   "cell_type": "code",
   "execution_count": 25,
   "id": "3e55e94b",
   "metadata": {},
   "outputs": [
    {
     "data": {
      "text/plain": [
       "array([1, 4, 9], dtype=int32)"
      ]
     },
     "execution_count": 25,
     "metadata": {},
     "output_type": "execute_result"
    }
   ],
   "source": [
    "# Power\n",
    "a ** 2"
   ]
  },
  {
   "cell_type": "code",
   "execution_count": 27,
   "id": "f6b1b4c2",
   "metadata": {},
   "outputs": [
    {
     "data": {
      "text/plain": [
       "array([3, 6, 9])"
      ]
     },
     "execution_count": 27,
     "metadata": {},
     "output_type": "execute_result"
    }
   ],
   "source": [
    "# Multiplication\n",
    "a * 3"
   ]
  },
  {
   "cell_type": "code",
   "execution_count": null,
   "id": "aaceee03",
   "metadata": {},
   "outputs": [],
   "source": []
  },
  {
   "cell_type": "code",
   "execution_count": null,
   "id": "393cf7b4",
   "metadata": {},
   "outputs": [],
   "source": []
  },
  {
   "cell_type": "code",
   "execution_count": null,
   "id": "06f2fa2e",
   "metadata": {},
   "outputs": [],
   "source": []
  },
  {
   "cell_type": "code",
   "execution_count": null,
   "id": "292d9371",
   "metadata": {},
   "outputs": [],
   "source": []
  },
  {
   "cell_type": "code",
   "execution_count": null,
   "id": "28e129e3",
   "metadata": {},
   "outputs": [],
   "source": []
  },
  {
   "cell_type": "code",
   "execution_count": null,
   "id": "d5420c1c",
   "metadata": {},
   "outputs": [],
   "source": []
  }
 ],
 "metadata": {
  "kernelspec": {
   "display_name": "Python 3",
   "language": "python",
   "name": "python3"
  },
  "language_info": {
   "codemirror_mode": {
    "name": "ipython",
    "version": 3
   },
   "file_extension": ".py",
   "mimetype": "text/x-python",
   "name": "python",
   "nbconvert_exporter": "python",
   "pygments_lexer": "ipython3",
   "version": "3.8.8"
  }
 },
 "nbformat": 4,
 "nbformat_minor": 5
}
